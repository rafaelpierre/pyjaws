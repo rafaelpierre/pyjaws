{
 "cells": [
  {
   "cell_type": "code",
   "execution_count": 2,
   "metadata": {},
   "outputs": [],
   "source": [
    "from simple_workflow.workflows import workflow"
   ]
  },
  {
   "cell_type": "code",
   "execution_count": 3,
   "metadata": {},
   "outputs": [
    {
     "data": {
      "text/plain": [
       "Workflow(name='my_workflow', tasks=[Task(key='ingest', package_name='my_package', entrypoint='ingest', task_name='ingest', cluster=Cluster(job_cluster_key='ai_cluster', spark_version=<Runtime.DBR_13_ML: '13.0.x-cpu-ml-scala2.12'>, num_workers=2, node_type_id='Standard_DS3_v2', autoscale=None, instance_pool_id=None, runtime_engine=None, cluster_log_conf={'dbfs': {'destination': 'dbfs:/home/cluster_log'}}), parameters=['my_parameter_value', '--output-table', 'my_table'], dependencies=None, libraries=[{'pypi': {'package': 'deepspeed'}}]), Task(key='transform', package_name='deepspeed', entrypoint='deepspeed', task_name='ingest', cluster=Cluster(job_cluster_key='ai_cluster', spark_version=<Runtime.DBR_13_ML: '13.0.x-cpu-ml-scala2.12'>, num_workers=2, node_type_id='Standard_DS3_v2', autoscale=None, instance_pool_id=None, runtime_engine=None, cluster_log_conf={'dbfs': {'destination': 'dbfs:/home/cluster_log'}}), parameters=['--num_nodes', '2', '--num_gpus', '2', 'run_glue_classifier_bert_base.py'], dependencies=[Task(key='ingest', package_name='my_package', entrypoint='ingest', task_name='ingest', cluster=Cluster(job_cluster_key='ai_cluster', spark_version=<Runtime.DBR_13_ML: '13.0.x-cpu-ml-scala2.12'>, num_workers=2, node_type_id='Standard_DS3_v2', autoscale=None, instance_pool_id=None, runtime_engine=None, cluster_log_conf={'dbfs': {'destination': 'dbfs:/home/cluster_log'}}), parameters=['my_parameter_value', '--output-table', 'my_table'], dependencies=None, libraries=[{'pypi': {'package': 'deepspeed'}}])], libraries=[{'pypi': 'deepspeed'}])], tags={'pyjaws_version': '0.0.9', 'updated': '2023-05-14 15:38:50', 'commit_hash': '1babdd82c2c8f40aecfc30bfdb1c65f4706f84a1', 'branch': 'main', 'origin': 'git@github.com:rafaelpierre/pyjaws.git'}, graph=<networkx.classes.digraph.DiGraph object at 0x121b6d0c0>, schedule=None)"
      ]
     },
     "metadata": {},
     "output_type": "display_data"
    }
   ],
   "source": [
    "display(workflow)"
   ]
  },
  {
   "cell_type": "code",
   "execution_count": null,
   "metadata": {},
   "outputs": [],
   "source": []
  }
 ],
 "metadata": {
  "kernelspec": {
   "display_name": ".venv",
   "language": "python",
   "name": "python3"
  },
  "language_info": {
   "codemirror_mode": {
    "name": "ipython",
    "version": 3
   },
   "file_extension": ".py",
   "mimetype": "text/x-python",
   "name": "python",
   "nbconvert_exporter": "python",
   "pygments_lexer": "ipython3",
   "version": "3.10.7"
  },
  "orig_nbformat": 4
 },
 "nbformat": 4,
 "nbformat_minor": 2
}
